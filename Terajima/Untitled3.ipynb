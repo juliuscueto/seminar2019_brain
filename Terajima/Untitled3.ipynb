{
 "cells": [
  {
   "cell_type": "code",
   "execution_count": 1,
   "metadata": {},
   "outputs": [],
   "source": [
    "import pylab\n",
    "import nest\n",
    "import numpy\n",
    "pop1 = nest.Create(\"iaf_psc_alpha\", 10)\n",
    "nest.SetStatus(pop1, {\"I_e\": 376.0})\n",
    "pop2 = nest.Create(\"iaf_psc_alpha\", 10)\n",
    "multimeter = nest.Create(\"multimeter\", 10)\n",
    "nest.SetStatus(multimeter, {\"withtime\":True, \"record_from\":[\"V_m\"]})"
   ]
  },
  {
   "cell_type": "code",
   "execution_count": 2,
   "metadata": {},
   "outputs": [],
   "source": [
    "nest.Connect(pop1, pop2, syn_spec={\"weight\":20.0})"
   ]
  },
  {
   "cell_type": "code",
   "execution_count": 3,
   "metadata": {},
   "outputs": [],
   "source": [
    "nest.Connect(pop1, pop2, \"one_to_one\", syn_spec={\"weight\":20.0, \"delay\":1.0})"
   ]
  },
  {
   "cell_type": "code",
   "execution_count": null,
   "metadata": {},
   "outputs": [],
   "source": []
  }
 ],
 "metadata": {
  "kernelspec": {
   "display_name": "Python 3",
   "language": "python",
   "name": "python3"
  },
  "language_info": {
   "codemirror_mode": {
    "name": "ipython",
    "version": 3
   },
   "file_extension": ".py",
   "mimetype": "text/x-python",
   "name": "python",
   "nbconvert_exporter": "python",
   "pygments_lexer": "ipython3",
   "version": "3.7.3"
  }
 },
 "nbformat": 4,
 "nbformat_minor": 2
}
